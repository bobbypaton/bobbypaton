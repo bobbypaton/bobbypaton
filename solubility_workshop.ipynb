{
  "nbformat": 4,
  "nbformat_minor": 0,
  "metadata": {
    "colab": {
      "name": "solubility_workshop.ipynb",
      "provenance": [],
      "collapsed_sections": [],
      "authorship_tag": "ABX9TyNteMV7Fh0uKBaKWxaDBkef",
      "include_colab_link": true
    },
    "kernelspec": {
      "name": "python3",
      "display_name": "Python 3"
    },
    "language_info": {
      "name": "python"
    }
  },
  "cells": [
    {
      "cell_type": "markdown",
      "metadata": {
        "id": "view-in-github",
        "colab_type": "text"
      },
      "source": [
        "<a href=\"https://colab.research.google.com/github/bobbypaton/bobbypaton/blob/main/solubility_workshop.ipynb\" target=\"_parent\"><img src=\"https://colab.research.google.com/assets/colab-badge.svg\" alt=\"Open In Colab\"/></a>"
      ]
    },
    {
      "cell_type": "markdown",
      "metadata": {
        "id": "Uf_r1S_M9li5"
      },
      "source": [
        "Computationally predicting molecular solubility is useful for drug-discovery.\n",
        "\n",
        "In this tutorial, we will fit a simple statistical model that predicts the solubility of some organic molecules. The process of fitting this model involves four steps:\n",
        "\n",
        "1. Loading a chemical dataset, consisting of a series of compounds along with aqueous solubility measurements.\n",
        "2. Visualizing the molecules\n",
        "3. Exploring how single variables influence solubility.\n",
        "4. Fitting a simple multivariate model.\n",
        "5. Visualizing the results"
      ]
    },
    {
      "cell_type": "code",
      "metadata": {
        "id": "y6cyMStn9Ki7"
      },
      "source": [
        "import sys\n",
        "sys.version"
      ],
      "execution_count": null,
      "outputs": []
    },
    {
      "cell_type": "code",
      "metadata": {
        "id": "dP9hzihA9P5o"
      },
      "source": [
        "!time pip install rdkit-pypi"
      ],
      "execution_count": null,
      "outputs": []
    },
    {
      "cell_type": "code",
      "metadata": {
        "id": "hvIDmiBZ9qWD"
      },
      "source": [
        "# import python modules\n",
        "import numpy as np\n",
        "import scipy as sp\n",
        "from matplotlib import pyplot as plt\n",
        "%matplotlib inline\n",
        "import pandas as pd\n",
        "import sklearn, sys\n",
        "from sklearn import datasets, linear_model\n",
        "from sklearn.metrics import mean_squared_error, r2_score\n",
        "\n",
        "import rdkit\n",
        "from rdkit.Chem import Draw\n",
        "from rdkit.Chem.Draw import IPythonConsole\n",
        "IPythonConsole.ipython_useSVG=True"
      ],
      "execution_count": null,
      "outputs": []
    },
    {
      "cell_type": "markdown",
      "metadata": {
        "id": "YMd57cUg9xLH"
      },
      "source": [
        "We need to load a dataset of estimated aqueous solubility measurements [1] into our notebook. The data is in CSV format and contains SMILES strings, measured aqueous solubilities, and other descriptors."
      ]
    },
    {
      "cell_type": "code",
      "metadata": {
        "id": "rWnR7EDn9zfn"
      },
      "source": [
        "solubility_data = pd.read_csv(\"https://raw.githubusercontent.com/deepchem/deepchem/master/datasets/delaney-processed.csv\")\n",
        "solubility_data = solubility_data[['Compound ID', 'smiles', 'measured log solubility in mols per litre', 'Molecular Weight', 'Minimum Degree', 'Number of Rings', 'Number of Rotatable Bonds', 'Polar Surface Area']]\n",
        "solubility_data.head()"
      ],
      "execution_count": null,
      "outputs": []
    },
    {
      "cell_type": "markdown",
      "metadata": {
        "id": "8IL7AE8C94AL"
      },
      "source": [
        "Let's take a look at some of the molecules in our dataset!\n",
        "\n"
      ]
    },
    {
      "cell_type": "code",
      "metadata": {
        "id": "XKuze1SH99ox"
      },
      "source": [
        "molecules = [rdkit.Chem.MolFromSmiles(smi) for smi in solubility_data['smiles']]\n",
        "Draw.MolsToGridImage(molecules, molsPerRow=5, legends=[str(sol) for sol in solubility_data['measured log solubility in mols per litre']])"
      ],
      "execution_count": null,
      "outputs": []
    },
    {
      "cell_type": "markdown",
      "metadata": {
        "id": "A2WjKs3wFBah"
      },
      "source": [
        "Which are the most and least soluble compounds in our dataset?"
      ]
    },
    {
      "cell_type": "code",
      "metadata": {
        "id": "Y5G-9urKFJRq"
      },
      "source": [
        "solubility_data['measured log solubility in mols per litre'].max()"
      ],
      "execution_count": null,
      "outputs": []
    },
    {
      "cell_type": "code",
      "metadata": {
        "id": "4sVO7PG4GTPy"
      },
      "source": [
        "solubility_data['measured log solubility in mols per litre'].idxmax()"
      ],
      "execution_count": null,
      "outputs": []
    },
    {
      "cell_type": "code",
      "metadata": {
        "id": "ebr1Y8V0GbhA"
      },
      "source": [
        "solubility_data.loc[603]"
      ],
      "execution_count": null,
      "outputs": []
    },
    {
      "cell_type": "code",
      "metadata": {
        "id": "Xuf66ncrGxCh"
      },
      "source": [
        "smiles = [solubility_data.loc[605]['smiles'], solubility_data.loc[603]['smiles']]\n",
        "molecules = [rdkit.Chem.MolFromSmiles(smi) for smi in smiles]\n",
        "Draw.MolsToGridImage(molecules)"
      ],
      "execution_count": null,
      "outputs": []
    },
    {
      "cell_type": "markdown",
      "metadata": {
        "id": "pSZxi4AbBdOE"
      },
      "source": [
        "Does solubility correlate with molecular structure?"
      ]
    },
    {
      "cell_type": "code",
      "metadata": {
        "id": "uoorVdG9CL3a"
      },
      "source": [
        "X = solubility_data['Molecular Weight']\n",
        "Y = solubility_data['measured log solubility in mols per litre']\n",
        "\n",
        "plt.scatter(X, Y)\n",
        "plt.xlabel(\"Molecular Weight\")\n",
        "plt.ylabel(\"Log Solubility\")\n",
        "plt.show()"
      ],
      "execution_count": null,
      "outputs": []
    },
    {
      "cell_type": "code",
      "metadata": {
        "id": "VGbIEQamEXc3"
      },
      "source": [
        "X = solubility_data['Number of Rings']\n",
        "Y = solubility_data['measured log solubility in mols per litre']\n",
        "\n",
        "plt.scatter(X, Y)\n",
        "plt.xlabel(\"Number of Rings\")\n",
        "plt.ylabel(\"Log Solubility\")\n",
        "plt.show()"
      ],
      "execution_count": null,
      "outputs": []
    },
    {
      "cell_type": "markdown",
      "metadata": {
        "id": "-2cjbNj28WRu"
      },
      "source": [
        "Can we combine the separate variables (molecular weight, number of rings, number of rotatable bonds, polar surface area) in a way to predict the solubility? This is known as a \"multivariate model\"."
      ]
    },
    {
      "cell_type": "code",
      "metadata": {
        "id": "PukOItq25Rf4"
      },
      "source": [
        "X = -0.013 * solubility_data['Molecular Weight'] -0.46 * solubility_data['Number of Rings'] - 0.15 * solubility_data['Number of Rotatable Bonds'] + 0.03 * solubility_data['Polar Surface Area'] \n",
        "Y = solubility_data['measured log solubility in mols per litre']\n",
        "\n",
        "plt.scatter(X, Y)\n",
        "plt.xlabel(\"Predicted Log Solubility\")\n",
        "plt.ylabel(\"Log Solubility\")\n",
        "plt.show()\n",
        "r2_score(Y, X)"
      ],
      "execution_count": null,
      "outputs": []
    }
  ]
}
